{
 "cells": [
  {
   "cell_type": "markdown",
   "metadata": {},
   "source": [
    "### AD"
   ]
  },
  {
   "cell_type": "code",
   "execution_count": null,
   "metadata": {},
   "outputs": [],
   "source": [
    "import torch"
   ]
  },
  {
   "cell_type": "code",
   "execution_count": null,
   "metadata": {},
   "outputs": [],
   "source": [
    "def get_data():\n",
    "    \"\"\"Return the function and its arguments.\"\"\"\n",
    "    x = torch.tensor([1.,2,3], requires_grad=True)\n",
    "\n",
    "    y = torch.Tensor(2)\n",
    "    y[0] = x[0]**2 + x[1]*x[2] + x[2]**2\n",
    "    y[1] = x[0]**3 + x[1]**2*x[2] + x[2] + x[2]**2\n",
    "    \n",
    "    return x, y\n",
    "\n",
    "def get_jacobian_0(x, y=None):\n",
    "    \"\"\"Compute the Jacobian manually.\"\"\"\n",
    "    dy1 = [d.item() for d in [2*x[0], x[2], x[1] + 2*x[2]]]\n",
    "    dy2 = [d.item() for d in [3*x[0]**2, 2*x[1]*x[2], x[1]**2 + 1 + 2*x[2]]]\n",
    "\n",
    "    return torch.tensor([dy1, dy2])\n",
    "\n",
    "def get_jacobian_1(x, y):\n",
    "    \"\"\"Compute the Jacobian (approach 1).\"\"\"\n",
    "    J = torch.Tensor(2, 3)\n",
    "    v = torch.zeros(2)\n",
    "    for k in range(len(y)):\n",
    "        v[k] = 1\n",
    "        if k < len(y) - 1: \n",
    "            y.backward(v, retain_graph=True)\n",
    "        else: \n",
    "            y.backward(v)\n",
    "        J[k] = x.grad.clone()\n",
    "        v[k] = 0\n",
    "        x.grad.zero_()\n",
    "    return J\n",
    "\n",
    "def get_jacobian_2(x, y):\n",
    "    \"\"\"Compute the Jacobian (approach 2).\"\"\"\n",
    "    J = torch.Tensor(2, 3)\n",
    "    for k in range(len(y)):\n",
    "        if k < len(y) - 1: \n",
    "            y[k].backward(retain_graph=True)\n",
    "        else: \n",
    "            y[k].backward()\n",
    "        J[k] = x.grad.clone()\n",
    "        x.grad.zero_()\n",
    "    return J\n",
    "\n",
    "def get_jacobian_3(x, y):\n",
    "    \"\"\"Compute the Jacobian (approach 3).\"\"\"\n",
    "    L = []\n",
    "    for i in range(len(y)):\n",
    "        L.append(torch.autograd.grad(y[i], x, create_graph=True)[0])\n",
    "    return L"
   ]
  },
  {
   "cell_type": "code",
   "execution_count": null,
   "metadata": {},
   "outputs": [],
   "source": [
    "get_jacobian_0(*get_data())"
   ]
  },
  {
   "cell_type": "code",
   "execution_count": null,
   "metadata": {},
   "outputs": [],
   "source": [
    "get_jacobian_1(*get_data())"
   ]
  },
  {
   "cell_type": "code",
   "execution_count": null,
   "metadata": {},
   "outputs": [],
   "source": [
    "get_jacobian_2(*get_data())"
   ]
  },
  {
   "cell_type": "code",
   "execution_count": null,
   "metadata": {},
   "outputs": [],
   "source": [
    "get_jacobian_3(*get_data())"
   ]
  }
 ],
 "metadata": {
  "kernelspec": {
   "display_name": "Python 3",
   "language": "python",
   "name": "python3"
  },
  "language_info": {
   "codemirror_mode": {
    "name": "ipython",
    "version": 3
   },
   "file_extension": ".py",
   "mimetype": "text/x-python",
   "name": "python",
   "nbconvert_exporter": "python",
   "pygments_lexer": "ipython3",
   "version": "3.7.3"
  }
 },
 "nbformat": 4,
 "nbformat_minor": 2
}
