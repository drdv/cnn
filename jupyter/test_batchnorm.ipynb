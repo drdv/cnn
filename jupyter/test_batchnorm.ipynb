{
 "cells": [
  {
   "cell_type": "markdown",
   "metadata": {},
   "source": [
    "### Batch-norm"
   ]
  },
  {
   "cell_type": "code",
   "execution_count": null,
   "metadata": {},
   "outputs": [],
   "source": [
    "import numpy as np\n",
    "import torch"
   ]
  },
  {
   "cell_type": "code",
   "execution_count": null,
   "metadata": {},
   "outputs": [],
   "source": [
    "numb_channels = 3\n",
    "batch_size = 10\n",
    "image_size = (7, 7)\n",
    "\n",
    "# some tensor, e.g., corresponding to an image\n",
    "A = torch.rand((batch_size, numb_channels, *image_size))"
   ]
  },
  {
   "cell_type": "markdown",
   "metadata": {},
   "source": [
    "### Define a batch-norm object (for the given number of channels)\n",
    " + set unit weights and eps=0 (for the comparison below)"
   ]
  },
  {
   "cell_type": "code",
   "execution_count": null,
   "metadata": {},
   "outputs": [],
   "source": [
    "bn = torch.nn.BatchNorm2d(numb_channels, eps=0.)\n",
    "bn.weight = torch.nn.Parameter(torch.ones(numb_channels))"
   ]
  },
  {
   "cell_type": "markdown",
   "metadata": {},
   "source": [
    "### Comparison\n",
    " + manually compute mean and std over the entire batch for the k-th channel"
   ]
  },
  {
   "cell_type": "code",
   "execution_count": null,
   "metadata": {},
   "outputs": [],
   "source": [
    "for k in range(numb_channels):\n",
    "    Ak = A[:,k,...]\n",
    "    m, s = np.mean(Ak.numpy()), np.std(Ak.numpy())\n",
    "    Ak_bn = (Ak - m)/s\n",
    "    print('[k={}]: {}'.format(k, (bn(A)[:,k,...] - Ak_bn).norm()))"
   ]
  }
 ],
 "metadata": {
  "kernelspec": {
   "display_name": "Python 3",
   "language": "python",
   "name": "python3"
  },
  "language_info": {
   "codemirror_mode": {
    "name": "ipython",
    "version": 3
   },
   "file_extension": ".py",
   "mimetype": "text/x-python",
   "name": "python",
   "nbconvert_exporter": "python",
   "pygments_lexer": "ipython3",
   "version": "3.7.3"
  }
 },
 "nbformat": 4,
 "nbformat_minor": 2
}
