{
 "cells": [
  {
   "cell_type": "markdown",
   "metadata": {},
   "source": [
    "### Examples of how to use `torch.optim.SGD` \n",
    " + The Rosenbrock function is minimized\n",
    " + In a similar way `torch.optim.Adam` could be used"
   ]
  },
  {
   "cell_type": "code",
   "execution_count": null,
   "metadata": {},
   "outputs": [],
   "source": [
    "%matplotlib inline\n",
    "\n",
    "import sys\n",
    "import numpy as np\n",
    "import scipy.optimize as so\n",
    "\n",
    "sys.path.append('..')\n",
    "from utils import rosenbrock_contour, rosenbrock, gd"
   ]
  },
  {
   "cell_type": "markdown",
   "metadata": {},
   "source": [
    "### Set initial condition"
   ]
  },
  {
   "cell_type": "code",
   "execution_count": null,
   "metadata": {},
   "outputs": [],
   "source": [
    "x0 = np.array([-1.9, 2])"
   ]
  },
  {
   "cell_type": "markdown",
   "metadata": {},
   "source": [
    "### Powell method (just for fun)"
   ]
  },
  {
   "cell_type": "code",
   "execution_count": null,
   "metadata": {},
   "outputs": [],
   "source": [
    "rosenbrock_contour(so.fmin_powell(rosenbrock, x0=x0, retall=True)[1])"
   ]
  },
  {
   "cell_type": "markdown",
   "metadata": {},
   "source": [
    "### Gradient descent"
   ]
  },
  {
   "cell_type": "code",
   "execution_count": null,
   "metadata": {},
   "outputs": [],
   "source": [
    "lrs = [1e-3/2, 3*1e-3/2, 2*1e-3]  # learning rates to test with\n",
    "\n",
    "rosenbrock_contour({round(lr, 4): gd(x0, lr) for lr in lrs})\n",
    "rosenbrock_contour({round(lr, 4): gd(x0, lr, use_torch_opt=True) for lr in lrs})"
   ]
  },
  {
   "cell_type": "markdown",
   "metadata": {},
   "source": [
    "### Gradient descent with momentum"
   ]
  },
  {
   "cell_type": "code",
   "execution_count": null,
   "metadata": {},
   "outputs": [],
   "source": [
    "rosenbrock_contour(**gd(x0, lr=1e-3/2, mu=0.9))\n",
    "rosenbrock_contour(**gd(x0, lr=1e-3/2, mu=0.9, use_torch_opt=True))"
   ]
  },
  {
   "cell_type": "markdown",
   "metadata": {},
   "source": [
    "### Nesterov accelerated gradient"
   ]
  },
  {
   "cell_type": "code",
   "execution_count": null,
   "metadata": {},
   "outputs": [],
   "source": [
    "rosenbrock_contour(**gd(x0, lr=1e-3/2, mu=0.9, nesterov=True))\n",
    "rosenbrock_contour(**gd(x0, lr=1e-3/2, mu=0.9, nesterov=True, use_torch_opt=True))"
   ]
  },
  {
   "cell_type": "markdown",
   "metadata": {},
   "source": [
    "### Nesterov accelerated gradient with learning rate scheduler"
   ]
  },
  {
   "cell_type": "code",
   "execution_count": null,
   "metadata": {},
   "outputs": [],
   "source": [
    "rosenbrock_contour(**gd(x0, lr=1e-3/2, mu=0.9, nesterov=True, schedule_lr=True))"
   ]
  }
 ],
 "metadata": {
  "kernelspec": {
   "display_name": "Python 3",
   "language": "python",
   "name": "python3"
  },
  "language_info": {
   "codemirror_mode": {
    "name": "ipython",
    "version": 3
   },
   "file_extension": ".py",
   "mimetype": "text/x-python",
   "name": "python",
   "nbconvert_exporter": "python",
   "pygments_lexer": "ipython3",
   "version": "3.7.3"
  }
 },
 "nbformat": 4,
 "nbformat_minor": 2
}
