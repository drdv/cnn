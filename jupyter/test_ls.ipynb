{
 "cells": [
  {
   "cell_type": "markdown",
   "metadata": {},
   "source": [
    "### Lest squares with pytorch"
   ]
  },
  {
   "cell_type": "code",
   "execution_count": null,
   "metadata": {},
   "outputs": [],
   "source": [
    "import numpy as np\n",
    "\n",
    "import torch\n",
    "from torch import nn"
   ]
  },
  {
   "cell_type": "code",
   "execution_count": null,
   "metadata": {},
   "outputs": [],
   "source": [
    "class LeastSquares(nn.Module):\n",
    "    \"\"\"Implement least-squares.\"\"\"\n",
    "    def __init__(self, A):\n",
    "        super().__init__()\n",
    "        m, n = A.shape\n",
    "        self.A = nn.Linear(n, m)\n",
    "        self.A.weight = nn.Parameter(torch.FloatTensor(A), requires_grad=False)\n",
    "        self.A.bias = nn.Parameter(torch.zeros(m), requires_grad=False)\n",
    "        \n",
    "        self.x = nn.Linear(1, n)\n",
    "        #self.x.weight = nn.Parameter(torch.zeros(n, 1))\n",
    "        self.x.bias = nn.Parameter(torch.zeros(n), requires_grad=False)\n",
    "        \n",
    "    def forward(self):\n",
    "        \"\"\"Evaluate model.\"\"\"\n",
    "        return self.A(self.x(torch.ones(1)))\n",
    "    \n",
    "def solve(A, y, lr=1e-3, epochs=200):\n",
    "    \"\"\"Solve a least-squares problem `y=A*x` using SGD.\"\"\"\n",
    "    ls = LeastSquares(A)\n",
    "    opt = torch.optim.SGD(ls.parameters(), lr=lr)\n",
    "    y = torch.FloatTensor(y)\n",
    "    for k in range(epochs):\n",
    "        loss = sum((ls.forward() - y)**2)\n",
    "          \n",
    "        loss.backward()\n",
    "        opt.step()\n",
    "        opt.zero_grad()\n",
    "    \n",
    "    return ls.x.weight.data.numpy().flatten()"
   ]
  },
  {
   "cell_type": "code",
   "execution_count": null,
   "metadata": {},
   "outputs": [],
   "source": [
    "m, n = 100, 20\n",
    "A, y = np.random.randn(m, n), np.random.randn(m)\n",
    "x = solve(A, y)\n",
    "\n",
    "x_ls = np.linalg.lstsq(A, y, rcond=None)[0]\n",
    "print('err:', np.linalg.norm(x_ls - x))"
   ]
  }
 ],
 "metadata": {
  "kernelspec": {
   "display_name": "Python 3",
   "language": "python",
   "name": "python3"
  },
  "language_info": {
   "codemirror_mode": {
    "name": "ipython",
    "version": 3
   },
   "file_extension": ".py",
   "mimetype": "text/x-python",
   "name": "python",
   "nbconvert_exporter": "python",
   "pygments_lexer": "ipython3",
   "version": "3.7.3"
  }
 },
 "nbformat": 4,
 "nbformat_minor": 2
}
