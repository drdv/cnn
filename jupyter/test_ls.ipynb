{
 "cells": [
  {
   "cell_type": "markdown",
   "metadata": {},
   "source": [
    "### Lest squares with pytorch"
   ]
  },
  {
   "cell_type": "code",
   "execution_count": null,
   "metadata": {},
   "outputs": [],
   "source": [
    "import numpy as np\n",
    "from numpy.linalg import norm, lstsq\n",
    "\n",
    "import torch\n",
    "from torch import nn"
   ]
  },
  {
   "cell_type": "markdown",
   "metadata": {},
   "source": [
    "### Formulate a least-squares problem in several different ways"
   ]
  },
  {
   "cell_type": "code",
   "execution_count": null,
   "metadata": {},
   "outputs": [],
   "source": [
    "class LeastSquares1(nn.Module):\n",
    "    \"\"\"Implement least-squares using nn.Linear.\"\"\"\n",
    "    def __init__(self, A):\n",
    "        super().__init__()\n",
    "        m, n = A.shape\n",
    "        self.A = nn.Linear(n, m)\n",
    "        self.A.weight = nn.Parameter(torch.FloatTensor(A), requires_grad=False)\n",
    "        self.A.bias = nn.Parameter(torch.zeros(m), requires_grad=False)\n",
    "        \n",
    "        self.x = nn.Linear(1, n)\n",
    "        self.x.weight = nn.Parameter(torch.zeros(n, 1))\n",
    "        self.x.bias = nn.Parameter(torch.zeros(n), requires_grad=False)\n",
    "        \n",
    "    def forward(self):\n",
    "        \"\"\"Evaluate model.\"\"\"\n",
    "        return self.A(self.x(torch.ones(1)))\n",
    "    \n",
    "    def solution(self):\n",
    "        \"\"\"Return the solution.\"\"\"\n",
    "        return self.x.weight.data.numpy().flatten()\n",
    "\n",
    "class LeastSquares2(nn.Module):\n",
    "    \"\"\"Implement least-squares using nn.Parameter.\"\"\"\n",
    "    def __init__(self, A):\n",
    "        super().__init__()\n",
    "        m, n = A.shape\n",
    "        self.A = torch.FloatTensor(A)\n",
    "        self.x = nn.Parameter(torch.zeros(n))\n",
    "        \n",
    "    def forward(self):\n",
    "        \"\"\"Evaluate model.\"\"\"\n",
    "        return self.A @ self.x\n",
    "\n",
    "    def solution(self):\n",
    "        \"\"\"Return the solution.\"\"\"\n",
    "        return self.x.data.numpy().flatten()\n",
    "    \n",
    "class LeastSquares3(nn.Module):\n",
    "    \"\"\"Implement least-squares using torch.tensor.\"\"\"\n",
    "    def __init__(self, A):\n",
    "        super().__init__()\n",
    "        m, n = A.shape\n",
    "        self.A = torch.FloatTensor(A)\n",
    "        self.x = torch.zeros(n, requires_grad=True)\n",
    "        \n",
    "    def forward(self):\n",
    "        \"\"\"Evaluate model.\"\"\"\n",
    "        return self.A @ self.x\n",
    "\n",
    "    def solution(self):\n",
    "        \"\"\"Return the solution.\"\"\"\n",
    "        return self.x.data.numpy().flatten()"
   ]
  },
  {
   "cell_type": "markdown",
   "metadata": {},
   "source": [
    "### Solve a least-squares problem."
   ]
  },
  {
   "cell_type": "code",
   "execution_count": null,
   "metadata": {},
   "outputs": [],
   "source": [
    "def solve(model, A, y, lr=1e-3, epochs=200):\n",
    "    \"\"\"Solve a least-squares problem `y=A*x` using torch.optim.SGD.\"\"\"\n",
    "    ls = model(A)\n",
    "    opt = torch.optim.SGD(ls.parameters(), lr=lr)\n",
    "    \n",
    "    y = torch.FloatTensor(y)\n",
    "    for k in range(epochs):\n",
    "        loss = sum((ls.forward() - y)**2)\n",
    "        loss.backward()\n",
    "        opt.step()\n",
    "        opt.zero_grad()\n",
    "    \n",
    "    return ls.solution()\n",
    "\n",
    "def solve_manual(model, A, y, lr=1e-3, epochs=200):\n",
    "    \"\"\"Solve a least-squares problem `y=A*x` manually.\"\"\"\n",
    "    ls = model(A)\n",
    "    \n",
    "    y = torch.FloatTensor(y)\n",
    "    h = 2*ls.A.t()@y\n",
    "    for k in range(epochs):\n",
    "        loss = sum((ls.forward() - y)**2)\n",
    "                \n",
    "        loss.backward()\n",
    "\n",
    "        grad = 2*ls.A.t()@(ls.A@ls.x) - h\n",
    "        assert (grad - ls.x.grad).norm() < 1e-04\n",
    "        \n",
    "        with torch.no_grad():\n",
    "            ls.x -= lr * ls.x.grad\n",
    "            ls.x.grad.zero_()\n",
    "    \n",
    "    return ls.solution()"
   ]
  },
  {
   "cell_type": "markdown",
   "metadata": {},
   "source": [
    "### Test"
   ]
  },
  {
   "cell_type": "code",
   "execution_count": null,
   "metadata": {},
   "outputs": [],
   "source": [
    "m, n = 100, 20\n",
    "A, y = np.random.randn(m, n), np.random.randn(m)\n",
    "\n",
    "x_ls = lstsq(A, y, rcond=None)[0]\n",
    "\n",
    "x1 = solve(LeastSquares1, A, y)\n",
    "print('[x1] err:', norm(x_ls - x1))\n",
    "\n",
    "x2 = solve(LeastSquares2, A, y)\n",
    "print('[x2] err:', norm(x_ls - x2))\n",
    "\n",
    "x3 = solve_manual(LeastSquares3, A, y)\n",
    "print('[x3] err:', norm(x_ls - x3))"
   ]
  }
 ],
 "metadata": {
  "kernelspec": {
   "display_name": "Python 3",
   "language": "python",
   "name": "python3"
  },
  "language_info": {
   "codemirror_mode": {
    "name": "ipython",
    "version": 3
   },
   "file_extension": ".py",
   "mimetype": "text/x-python",
   "name": "python",
   "nbconvert_exporter": "python",
   "pygments_lexer": "ipython3",
   "version": "3.7.3"
  }
 },
 "nbformat": 4,
 "nbformat_minor": 2
}
