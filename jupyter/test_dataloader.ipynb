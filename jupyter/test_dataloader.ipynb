{
 "cells": [
  {
   "cell_type": "code",
   "execution_count": null,
   "metadata": {},
   "outputs": [],
   "source": [
    "%matplotlib inline\n",
    "\n",
    "from pathlib import Path\n",
    "import requests\n",
    "import pickle\n",
    "import numpy as np\n",
    "import matplotlib.pyplot as plt\n",
    "\n",
    "import gzip\n",
    "\n",
    "import torch\n",
    "from torch.utils.data import TensorDataset"
   ]
  },
  {
   "cell_type": "code",
   "execution_count": null,
   "metadata": {},
   "outputs": [],
   "source": [
    "data_dir = '../data'"
   ]
  },
  {
   "cell_type": "markdown",
   "metadata": {},
   "source": [
    "### Get data"
   ]
  },
  {
   "cell_type": "code",
   "execution_count": null,
   "metadata": {},
   "outputs": [],
   "source": [
    "url = 'http://deeplearning.net/data/mnist/'\n",
    "filename = \"mnist.pkl.gz\"\n",
    "\n",
    "path = Path(data_dir, filename)\n",
    "\n",
    "if not path.exists():\n",
    "    r = requests.get(url + filename)\n",
    "    with open(path, 'wb') as h:\n",
    "        h.write(r.content)\n",
    "\n",
    "with gzip.open(path, \"rb\") as h:\n",
    "    (x_train, y_train), (x_valid, y_valid), _ = pickle.load(h, encoding=\"latin-1\")"
   ]
  },
  {
   "cell_type": "code",
   "execution_count": null,
   "metadata": {},
   "outputs": [],
   "source": [
    "train_ds = TensorDataset(torch.FloatTensor(x_train), \n",
    "                         torch.FloatTensor(y_train))\n",
    "\n",
    "rows, cols = 3, 3\n",
    "width, height = 12, 12\n",
    "\n",
    "for ax, (x, y) in zip(plt.subplots(rows, cols, figsize=(width, height))[1].flatten(), \n",
    "                      zip(*train_ds[:rows*cols])):\n",
    "    ax.imshow(x.reshape((28, 28)), cmap=\"gray\")"
   ]
  }
 ],
 "metadata": {
  "kernelspec": {
   "display_name": "Python 3",
   "language": "python",
   "name": "python3"
  },
  "language_info": {
   "codemirror_mode": {
    "name": "ipython",
    "version": 3
   },
   "file_extension": ".py",
   "mimetype": "text/x-python",
   "name": "python",
   "nbconvert_exporter": "python",
   "pygments_lexer": "ipython3",
   "version": "3.7.3"
  }
 },
 "nbformat": 4,
 "nbformat_minor": 2
}
