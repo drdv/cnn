{
 "cells": [
  {
   "cell_type": "markdown",
   "metadata": {},
   "source": [
    "### Using `TensorDataset` and `DataLoader`\n",
    " + https://pytorch.org/tutorials/beginner/nn_tutorial.html"
   ]
  },
  {
   "cell_type": "code",
   "execution_count": null,
   "metadata": {},
   "outputs": [],
   "source": [
    "%matplotlib inline\n",
    "\n",
    "from pathlib import Path\n",
    "import requests\n",
    "import pickle\n",
    "import numpy as np\n",
    "import matplotlib.pyplot as plt\n",
    "\n",
    "import gzip\n",
    "\n",
    "import torch\n",
    "from torch.utils.data import TensorDataset, DataLoader"
   ]
  },
  {
   "cell_type": "code",
   "execution_count": null,
   "metadata": {},
   "outputs": [],
   "source": [
    "data_dir = '../data'"
   ]
  },
  {
   "cell_type": "markdown",
   "metadata": {},
   "source": [
    "### Get data"
   ]
  },
  {
   "cell_type": "code",
   "execution_count": null,
   "metadata": {},
   "outputs": [],
   "source": [
    "url = 'http://deeplearning.net/data/mnist/'\n",
    "filename = \"mnist.pkl.gz\"\n",
    "\n",
    "path = Path(data_dir, filename)\n",
    "\n",
    "if not path.exists():\n",
    "    r = requests.get(url + filename)\n",
    "    with open(path, 'wb') as h:\n",
    "        h.write(r.content)\n",
    "\n",
    "with gzip.open(path, \"rb\") as h:\n",
    "    (x_train, y_train), (x_valid, y_valid), _ = pickle.load(h, encoding=\"latin-1\") "
   ]
  },
  {
   "cell_type": "markdown",
   "metadata": {},
   "source": [
    "### Initialize a dataloader"
   ]
  },
  {
   "cell_type": "code",
   "execution_count": null,
   "metadata": {},
   "outputs": [],
   "source": [
    "bs = 32\n",
    "\n",
    "train_ds = TensorDataset(torch.FloatTensor(x_train), \n",
    "                         torch.FloatTensor(y_train))\n",
    "\n",
    "valid_ds = TensorDataset(torch.FloatTensor(x_valid), \n",
    "                         torch.FloatTensor(y_valid))\n",
    "\n",
    "train_dl = DataLoader(train_ds, batch_size=bs)\n",
    "valid_dl = DataLoader(valid_ds, batch_size=bs)"
   ]
  },
  {
   "cell_type": "code",
   "execution_count": null,
   "metadata": {},
   "outputs": [],
   "source": [
    "# `DataLoader` provides a convenient way for iterating over `TensorDataset`\n",
    "for k_train, (xb, yb) in enumerate(train_dl): pass\n",
    "for k_valid, (xb, yb) in enumerate(valid_dl): pass\n",
    "\n",
    "print('[#batches] train: {}, valid: {}'.format(k1, k2))"
   ]
  },
  {
   "cell_type": "markdown",
   "metadata": {},
   "source": [
    "### Visualize random samples"
   ]
  },
  {
   "cell_type": "code",
   "execution_count": null,
   "metadata": {},
   "outputs": [],
   "source": [
    "def show_random_samples(dataset, rows=5, cols=5, width=8, height=8):\n",
    "    \"\"\"Show rows * cols random samples.\"\"\"\n",
    "    axes = plt.subplots(rows, cols, figsize=(width, height))[1].flatten()\n",
    "\n",
    "    # by default batch_size=1 in DataLoader\n",
    "    for ax, (x, y) in zip(axes, DataLoader(train_ds, shuffle=True)):\n",
    "        ax.imshow(x.reshape((28, 28)), cmap=\"gray\")\n",
    "        \n",
    "show_random_samples(train_ds)"
   ]
  }
 ],
 "metadata": {
  "kernelspec": {
   "display_name": "Python 3",
   "language": "python",
   "name": "python3"
  },
  "language_info": {
   "codemirror_mode": {
    "name": "ipython",
    "version": 3
   },
   "file_extension": ".py",
   "mimetype": "text/x-python",
   "name": "python",
   "nbconvert_exporter": "python",
   "pygments_lexer": "ipython3",
   "version": "3.7.3"
  }
 },
 "nbformat": 4,
 "nbformat_minor": 2
}
