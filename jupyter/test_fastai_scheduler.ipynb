{
 "cells": [
  {
   "cell_type": "code",
   "execution_count": null,
   "metadata": {},
   "outputs": [],
   "source": [
    "%matplotlib inline\n",
    "import matplotlib.pyplot as plt\n",
    "\n",
    "from fastai.vision import *"
   ]
  },
  {
   "cell_type": "code",
   "execution_count": null,
   "metadata": {},
   "outputs": [],
   "source": [
    "n = 30\n",
    "\n",
    "annealing_poly3 = annealing_poly(3)\n",
    "annealing_poly3.__name__ = 'annealing_poly3'\n",
    "\n",
    "annealing = [annealing_linear, annealing_exp, annealing_cos, annealing_poly3]\n",
    "\n",
    "plt.figure(figsize=(15,12))\n",
    "for k, anneal in enumerate(annealing, 1):\n",
    "    plt.subplot(3,2,k)\n",
    "    scheduler = Scheduler((1e-2, 1e-4), n, anneal)\n",
    "    plt.plot([scheduler.step() for k in range(n)], 'bo--')\n",
    "    plt.title(anneal.__name__)\n",
    "    plt.grid(True)\n",
    "\n",
    "plt.tight_layout()"
   ]
  }
 ],
 "metadata": {
  "kernelspec": {
   "display_name": "Python 3",
   "language": "python",
   "name": "python3"
  },
  "language_info": {
   "codemirror_mode": {
    "name": "ipython",
    "version": 3
   },
   "file_extension": ".py",
   "mimetype": "text/x-python",
   "name": "python",
   "nbconvert_exporter": "python",
   "pygments_lexer": "ipython3",
   "version": "3.7.3"
  }
 },
 "nbformat": 4,
 "nbformat_minor": 4
}
